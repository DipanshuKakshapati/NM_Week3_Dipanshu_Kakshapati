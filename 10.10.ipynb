{
 "cells": [
  {
   "cell_type": "code",
   "execution_count": 4,
   "id": "c84eb83e",
   "metadata": {},
   "outputs": [
    {
     "name": "stdout",
     "output_type": "stream",
     "text": [
      "L: [[1.         0.         0.        ]\n",
      " [0.33333333 1.         0.        ]\n",
      " [0.22222222 0.40350877 1.        ]]\n",
      "U: [[ 9.          2.         -1.        ]\n",
      " [ 0.          6.33333333  2.33333333]\n",
      " [ 0.          0.          7.28070175]]\n",
      "A reconstructed: [[ 9.  2. -1.]\n",
      " [ 3.  7.  2.]\n",
      " [ 2.  3.  8.]]\n",
      "Determinant of A: 414.99999999999994\n"
     ]
    }
   ],
   "source": [
    "import numpy as np\n",
    "from scipy.linalg import lu\n",
    "\n",
    "# Define the matrix from the image provided\n",
    "A = np.array([[9, 2, -1],\n",
    "              [3, 7, 2],\n",
    "              [2, 3, 8]], dtype=float)\n",
    "\n",
    "# Perform LU decomposition with permutation\n",
    "P, L, U = lu(A)  # 'permute_l' flag is not needed here\n",
    "\n",
    "# Check that L * U equals the original matrix A\n",
    "A_reconstructed = np.dot(L, U)\n",
    "\n",
    "# Calculate the determinant using LU decomposition\n",
    "# The determinant of A is the product of the diagonal elements of U\n",
    "det_A = np.prod(np.diag(U))\n",
    "\n",
    "print('L:', L)\n",
    "print('U:', U)\n",
    "print('A reconstructed:', A_reconstructed)\n",
    "print('Determinant of A:', det_A)\n"
   ]
  },
  {
   "cell_type": "code",
   "execution_count": null,
   "id": "a82d6f4f",
   "metadata": {},
   "outputs": [],
   "source": []
  }
 ],
 "metadata": {
  "kernelspec": {
   "display_name": "Python 3 (ipykernel)",
   "language": "python",
   "name": "python3"
  },
  "language_info": {
   "codemirror_mode": {
    "name": "ipython",
    "version": 3
   },
   "file_extension": ".py",
   "mimetype": "text/x-python",
   "name": "python",
   "nbconvert_exporter": "python",
   "pygments_lexer": "ipython3",
   "version": "3.11.5"
  }
 },
 "nbformat": 4,
 "nbformat_minor": 5
}
