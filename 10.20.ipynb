{
 "cells": [
  {
   "cell_type": "code",
   "execution_count": 1,
   "id": "92430b29",
   "metadata": {},
   "outputs": [
    {
     "data": {
      "text/plain": [
       "array([ 0.25      , -0.41666667, -0.41666667])"
      ]
     },
     "execution_count": 1,
     "metadata": {},
     "output_type": "execute_result"
    }
   ],
   "source": [
    "import numpy as np\n",
    "\n",
    "# Define the augmented matrix from the image provided\n",
    "A = np.array([[2, 5, 1],\n",
    "              [5, 2, 1],\n",
    "              [1, 2, 1]], dtype=float)\n",
    "\n",
    "B = np.array([-2, 0, -1], dtype=float)\n",
    "\n",
    "# Function to apply Gauss-Jordan elimination\n",
    "def gauss_jordan(a, b):\n",
    "    n = len(b)\n",
    "    # Main loop\n",
    "    for k in range(n):\n",
    "        # Partial Pivoting\n",
    "        if np.fabs(a[k,k]) < 1.0e-12:\n",
    "            for i in range(k+1, n):\n",
    "                if np.fabs(a[i,k]) > np.fabs(a[k,k]):\n",
    "                    a[[k,i]] = a[[i,k]]\n",
    "                    b[[k,i]] = b[[i,k]]\n",
    "                    break\n",
    "        # Division of the pivot row\n",
    "        pivot = a[k,k]\n",
    "        a[k] /= pivot\n",
    "        b[k] /= pivot\n",
    "        # Elimination loop\n",
    "        for i in range(n):\n",
    "            if i == k or a[i,k] == 0: continue\n",
    "            factor = a[i,k]\n",
    "            a[i] -= factor * a[k]\n",
    "            b[i] -= factor * b[k]\n",
    "    return b\n",
    "\n",
    "# Apply Gauss-Jordan elimination\n",
    "delta_x = gauss_jordan(A, B)\n",
    "delta_x"
   ]
  },
  {
   "cell_type": "code",
   "execution_count": null,
   "id": "7d0ef1e8",
   "metadata": {},
   "outputs": [],
   "source": []
  }
 ],
 "metadata": {
  "kernelspec": {
   "display_name": "Python 3 (ipykernel)",
   "language": "python",
   "name": "python3"
  },
  "language_info": {
   "codemirror_mode": {
    "name": "ipython",
    "version": 3
   },
   "file_extension": ".py",
   "mimetype": "text/x-python",
   "name": "python",
   "nbconvert_exporter": "python",
   "pygments_lexer": "ipython3",
   "version": "3.11.5"
  }
 },
 "nbformat": 4,
 "nbformat_minor": 5
}
